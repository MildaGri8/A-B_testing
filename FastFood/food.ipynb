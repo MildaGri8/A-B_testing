{
 "cells": [
  {
   "cell_type": "markdown",
   "metadata": {},
   "source": [
    "# Fast Food Marketing Campaign A/B Test"
   ]
  },
  {
   "cell_type": "markdown",
   "metadata": {},
   "source": [
    "A fast-food chain plans to add a new item to its menu. However, they are still undecided between three possible marketing campaigns for promoting the new product. In order to determine which promotion has the greatest effect on sales, the new item is introduced at locations in several randomly selected markets. A different promotion is used at each location, and the weekly sales of the new item are recorded for the first four weeks.\n",
    "\n",
    "[Fast Food Data Set](https://www.kaggle.com/datasets/chebotinaa/fast-food-marketing-campaign-ab-test)"
   ]
  },
  {
   "cell_type": "markdown",
   "metadata": {},
   "source": [
    "## 0. Data overview"
   ]
  },
  {
   "cell_type": "markdown",
   "metadata": {},
   "source": [
    "In order to define steps for analysis, we need to get familiar with the data."
   ]
  },
  {
   "cell_type": "code",
   "execution_count": 1,
   "metadata": {},
   "outputs": [],
   "source": [
    "import pandas as pd\n",
    "import numpy as np\n",
    "import matplotlib.pyplot as plt\n",
    "import seaborn as sns\n",
    "import plotly.express as px\n",
    "import scipy.stats as stats\n",
    "from statsmodels.graphics.gofplots import qqplot\n",
    "import scikit_posthocs as sp\n",
    "from sklearn.utils import resample\n",
    "from scipy.stats import chisquare"
   ]
  },
  {
   "cell_type": "code",
   "execution_count": 2,
   "metadata": {},
   "outputs": [],
   "source": [
    "df = pd.read_csv(\"WA_Marketing-Campaign.csv\")"
   ]
  },
  {
   "cell_type": "code",
   "execution_count": 3,
   "metadata": {},
   "outputs": [
    {
     "data": {
      "text/html": [
       "<div>\n",
       "<style scoped>\n",
       "    .dataframe tbody tr th:only-of-type {\n",
       "        vertical-align: middle;\n",
       "    }\n",
       "\n",
       "    .dataframe tbody tr th {\n",
       "        vertical-align: top;\n",
       "    }\n",
       "\n",
       "    .dataframe thead th {\n",
       "        text-align: right;\n",
       "    }\n",
       "</style>\n",
       "<table border=\"1\" class=\"dataframe\">\n",
       "  <thead>\n",
       "    <tr style=\"text-align: right;\">\n",
       "      <th></th>\n",
       "      <th>MarketID</th>\n",
       "      <th>MarketSize</th>\n",
       "      <th>LocationID</th>\n",
       "      <th>AgeOfStore</th>\n",
       "      <th>Promotion</th>\n",
       "      <th>week</th>\n",
       "      <th>SalesInThousands</th>\n",
       "    </tr>\n",
       "  </thead>\n",
       "  <tbody>\n",
       "    <tr>\n",
       "      <th>0</th>\n",
       "      <td>1</td>\n",
       "      <td>Medium</td>\n",
       "      <td>1</td>\n",
       "      <td>4</td>\n",
       "      <td>3</td>\n",
       "      <td>1</td>\n",
       "      <td>33.73</td>\n",
       "    </tr>\n",
       "    <tr>\n",
       "      <th>1</th>\n",
       "      <td>1</td>\n",
       "      <td>Medium</td>\n",
       "      <td>1</td>\n",
       "      <td>4</td>\n",
       "      <td>3</td>\n",
       "      <td>2</td>\n",
       "      <td>35.67</td>\n",
       "    </tr>\n",
       "    <tr>\n",
       "      <th>2</th>\n",
       "      <td>1</td>\n",
       "      <td>Medium</td>\n",
       "      <td>1</td>\n",
       "      <td>4</td>\n",
       "      <td>3</td>\n",
       "      <td>3</td>\n",
       "      <td>29.03</td>\n",
       "    </tr>\n",
       "    <tr>\n",
       "      <th>3</th>\n",
       "      <td>1</td>\n",
       "      <td>Medium</td>\n",
       "      <td>1</td>\n",
       "      <td>4</td>\n",
       "      <td>3</td>\n",
       "      <td>4</td>\n",
       "      <td>39.25</td>\n",
       "    </tr>\n",
       "    <tr>\n",
       "      <th>4</th>\n",
       "      <td>1</td>\n",
       "      <td>Medium</td>\n",
       "      <td>2</td>\n",
       "      <td>5</td>\n",
       "      <td>2</td>\n",
       "      <td>1</td>\n",
       "      <td>27.81</td>\n",
       "    </tr>\n",
       "  </tbody>\n",
       "</table>\n",
       "</div>"
      ],
      "text/plain": [
       "   MarketID MarketSize  LocationID  AgeOfStore  Promotion  week  \\\n",
       "0         1     Medium           1           4          3     1   \n",
       "1         1     Medium           1           4          3     2   \n",
       "2         1     Medium           1           4          3     3   \n",
       "3         1     Medium           1           4          3     4   \n",
       "4         1     Medium           2           5          2     1   \n",
       "\n",
       "   SalesInThousands  \n",
       "0             33.73  \n",
       "1             35.67  \n",
       "2             29.03  \n",
       "3             39.25  \n",
       "4             27.81  "
      ]
     },
     "execution_count": 3,
     "metadata": {},
     "output_type": "execute_result"
    }
   ],
   "source": [
    "df.head()"
   ]
  },
  {
   "cell_type": "code",
   "execution_count": 4,
   "metadata": {},
   "outputs": [
    {
     "name": "stdout",
     "output_type": "stream",
     "text": [
      "MarketID              int64\n",
      "MarketSize           object\n",
      "LocationID            int64\n",
      "AgeOfStore            int64\n",
      "Promotion             int64\n",
      "week                  int64\n",
      "SalesInThousands    float64\n",
      "dtype: object\n",
      "\n",
      "Dataset has: 548 records, 0 nulls, 0 duplicates.\n"
     ]
    }
   ],
   "source": [
    "print(df.dtypes, end=\"\\n\\n\")\n",
    "print(\n",
    "    \"Dataset has:\",\n",
    "    len(df),\n",
    "    \"records,\",\n",
    "    df.isnull().sum().sum(),\n",
    "    \"nulls,\",\n",
    "    df.duplicated().sum(),\n",
    "    \"duplicates.\",\n",
    ")"
   ]
  },
  {
   "cell_type": "markdown",
   "metadata": {},
   "source": [
    "The variables are:\n",
    "- MarketID: unique identifier for market\n",
    "- MarketSize: size of market area by sales\n",
    "- LocationID: unique identifier for store location\n",
    "- AgeOfStore: age of store in years\n",
    "- Promotion: one of three promotions that were tested\n",
    "- week: one of four weeks when the promotions were run\n",
    "- SalesInThousands: sales amount for a specific LocationID, Promotion, and week"
   ]
  },
  {
   "cell_type": "markdown",
   "metadata": {},
   "source": [
    "This dataset has sales for 4 weeks during 3 different marketing campaigns with several levels of possible grouping."
   ]
  },
  {
   "cell_type": "markdown",
   "metadata": {},
   "source": [
    "Some aggregation will be done, to see how data looks like."
   ]
  },
  {
   "cell_type": "code",
   "execution_count": 5,
   "metadata": {},
   "outputs": [
    {
     "data": {
      "text/html": [
       "<div>\n",
       "<style scoped>\n",
       "    .dataframe tbody tr th:only-of-type {\n",
       "        vertical-align: middle;\n",
       "    }\n",
       "\n",
       "    .dataframe tbody tr th {\n",
       "        vertical-align: top;\n",
       "    }\n",
       "\n",
       "    .dataframe thead th {\n",
       "        text-align: right;\n",
       "    }\n",
       "</style>\n",
       "<table border=\"1\" class=\"dataframe\">\n",
       "  <thead>\n",
       "    <tr style=\"text-align: right;\">\n",
       "      <th></th>\n",
       "      <th>MarketSize</th>\n",
       "      <th>Promotion</th>\n",
       "      <th>LocationID_count</th>\n",
       "      <th>AgeOfStore_mean</th>\n",
       "      <th>Sales_total</th>\n",
       "      <th>Sales_mean</th>\n",
       "    </tr>\n",
       "  </thead>\n",
       "  <tbody>\n",
       "    <tr>\n",
       "      <th>0</th>\n",
       "      <td>Large</td>\n",
       "      <td>1</td>\n",
       "      <td>14.0</td>\n",
       "      <td>5.857143</td>\n",
       "      <td>4213.21</td>\n",
       "      <td>75.235893</td>\n",
       "    </tr>\n",
       "    <tr>\n",
       "      <th>1</th>\n",
       "      <td>Large</td>\n",
       "      <td>2</td>\n",
       "      <td>16.0</td>\n",
       "      <td>8.437500</td>\n",
       "      <td>3860.61</td>\n",
       "      <td>60.322031</td>\n",
       "    </tr>\n",
       "    <tr>\n",
       "      <th>2</th>\n",
       "      <td>Large</td>\n",
       "      <td>3</td>\n",
       "      <td>12.0</td>\n",
       "      <td>6.916667</td>\n",
       "      <td>3705.79</td>\n",
       "      <td>77.203958</td>\n",
       "    </tr>\n",
       "    <tr>\n",
       "      <th>3</th>\n",
       "      <td>Medium</td>\n",
       "      <td>1</td>\n",
       "      <td>24.0</td>\n",
       "      <td>9.125000</td>\n",
       "      <td>4576.57</td>\n",
       "      <td>47.672604</td>\n",
       "    </tr>\n",
       "    <tr>\n",
       "      <th>4</th>\n",
       "      <td>Medium</td>\n",
       "      <td>2</td>\n",
       "      <td>27.0</td>\n",
       "      <td>7.481481</td>\n",
       "      <td>4224.35</td>\n",
       "      <td>39.114352</td>\n",
       "    </tr>\n",
       "    <tr>\n",
       "      <th>5</th>\n",
       "      <td>Medium</td>\n",
       "      <td>3</td>\n",
       "      <td>29.0</td>\n",
       "      <td>9.724138</td>\n",
       "      <td>5274.39</td>\n",
       "      <td>45.468879</td>\n",
       "    </tr>\n",
       "    <tr>\n",
       "      <th>6</th>\n",
       "      <td>Small</td>\n",
       "      <td>1</td>\n",
       "      <td>5.0</td>\n",
       "      <td>11.000000</td>\n",
       "      <td>1203.25</td>\n",
       "      <td>60.162500</td>\n",
       "    </tr>\n",
       "    <tr>\n",
       "      <th>7</th>\n",
       "      <td>Small</td>\n",
       "      <td>2</td>\n",
       "      <td>4.0</td>\n",
       "      <td>9.500000</td>\n",
       "      <td>812.97</td>\n",
       "      <td>50.810625</td>\n",
       "    </tr>\n",
       "    <tr>\n",
       "      <th>8</th>\n",
       "      <td>Small</td>\n",
       "      <td>3</td>\n",
       "      <td>6.0</td>\n",
       "      <td>11.500000</td>\n",
       "      <td>1428.34</td>\n",
       "      <td>59.514167</td>\n",
       "    </tr>\n",
       "  </tbody>\n",
       "</table>\n",
       "</div>"
      ],
      "text/plain": [
       "  MarketSize  Promotion  LocationID_count  AgeOfStore_mean  Sales_total  \\\n",
       "0      Large          1              14.0         5.857143      4213.21   \n",
       "1      Large          2              16.0         8.437500      3860.61   \n",
       "2      Large          3              12.0         6.916667      3705.79   \n",
       "3     Medium          1              24.0         9.125000      4576.57   \n",
       "4     Medium          2              27.0         7.481481      4224.35   \n",
       "5     Medium          3              29.0         9.724138      5274.39   \n",
       "6      Small          1               5.0        11.000000      1203.25   \n",
       "7      Small          2               4.0         9.500000       812.97   \n",
       "8      Small          3               6.0        11.500000      1428.34   \n",
       "\n",
       "   Sales_mean  \n",
       "0   75.235893  \n",
       "1   60.322031  \n",
       "2   77.203958  \n",
       "3   47.672604  \n",
       "4   39.114352  \n",
       "5   45.468879  \n",
       "6   60.162500  \n",
       "7   50.810625  \n",
       "8   59.514167  "
      ]
     },
     "execution_count": 5,
     "metadata": {},
     "output_type": "execute_result"
    }
   ],
   "source": [
    "df_grouped = (\n",
    "    df.groupby([\"MarketSize\", \"Promotion\"])\n",
    "    .agg(\n",
    "        {\n",
    "            \"LocationID\": \"count\",\n",
    "            \"AgeOfStore\": \"mean\",\n",
    "            \"SalesInThousands\": [\"sum\", \"mean\"],\n",
    "        }\n",
    "    )\n",
    "    .reset_index()\n",
    ")\n",
    "\n",
    "df_grouped.columns = [\n",
    "    \"MarketSize\",\n",
    "    \"Promotion\",\n",
    "    \"LocationID_count\",\n",
    "    \"AgeOfStore_mean\",\n",
    "    \"Sales_total\",\n",
    "    \"Sales_mean\",\n",
    "]\n",
    "\n",
    "df_grouped[\"LocationID_count\"] = df_grouped[\"LocationID_count\"] / 4\n",
    "df_grouped"
   ]
  },
  {
   "cell_type": "code",
   "execution_count": 6,
   "metadata": {},
   "outputs": [
    {
     "data": {
      "image/png": "[encoded data removed]",
      "text/plain": [
       "<Figure size 1000x300 with 1 Axes>"
      ]
     },
     "metadata": {},
     "output_type": "display_data"
    },
    {
     "name": "stdout",
     "output_type": "stream",
     "text": [
      "Sample sizes by promotion [43. 47. 47.]\n"
     ]
    }
   ],
   "source": [
    "plt.figure(figsize=(10, 3))\n",
    "barplot = sns.barplot(\n",
    "    data=df_grouped,\n",
    "    y=\"LocationID_count\",\n",
    "    hue=\"Promotion\",\n",
    "    x=\"MarketSize\",\n",
    "    palette=sns.color_palette(\"pastel\", n_colors=3),\n",
    ")\n",
    "\n",
    "barplot.set_ylabel(\"Number of Locations\")\n",
    "\n",
    "for container in barplot.containers:\n",
    "    barplot.bar_label(container, fmt=\"%d\", padding=-15)\n",
    "\n",
    "barplot.set_title(\"Location split by Market Size and Promotion\")\n",
    "\n",
    "plt.show()\n",
    "print(\n",
    "    \"Sample sizes by promotion\",\n",
    "    df_grouped.groupby(\"Promotion\")[\"LocationID_count\"].sum().values,\n",
    ")"
   ]
  },
  {
   "cell_type": "markdown",
   "metadata": {},
   "source": [
    "- Locations were not assigned to different **Promotions** by equal proportions by **total number** and by **Market Size**. E.g. Small **Market Size** has 4 Locations in **Promotion 2** and 6 Locations in **Promotion 3** which is 50 % difference, however it is not big difference in absolute values.\n",
    "- Average **Age of Location** differs between **Market Size** groups having on average oldest **Locations** in Small Markets, folowed by Medium and Large. "
   ]
  },
  {
   "cell_type": "markdown",
   "metadata": {},
   "source": [
    "SRM for sample proportion will be checked with Chi-square test. The chi-square test tests the null hypothesis that the categorical data has the given frequencies, in this case: 50-50. As **Promotion 2** and **Promotion 3** has same saple size, it will be compare the sizes of 43 and 47.\n",
    "\n",
    "$H_0:$ Assignement to Promotions has equal frequencies.\n",
    "\n",
    "$H_1:$ Assignement to Promotions has no equal frequencies."
   ]
  },
  {
   "cell_type": "code",
   "execution_count": 7,
   "metadata": {},
   "outputs": [
    {
     "name": "stdout",
     "output_type": "stream",
     "text": [
      "Chi-square results for data before clean up Chi: 0.1778 p-value: 0.6733\n"
     ]
    }
   ],
   "source": [
    "sample = [43, 47]\n",
    "chi, p = chisquare(sample)\n",
    "print(\n",
    "    \"Chi-square results for data before clean up Chi:\",\n",
    "    chi.round(4),\n",
    "    \"p-value:\",\n",
    "    p.round(4),\n",
    ")"
   ]
  },
  {
   "cell_type": "markdown",
   "metadata": {},
   "source": [
    "p-values > 0.05 implies that hypothesis about equal frequencies in sample is failed to be rejected. "
   ]
  },
  {
   "cell_type": "markdown",
   "metadata": {},
   "source": [
    "Data will be summarized by **Promotion**."
   ]
  },
  {
   "cell_type": "code",
   "execution_count": 8,
   "metadata": {},
   "outputs": [
    {
     "data": {
      "text/html": [
       "<div>\n",
       "<style scoped>\n",
       "    .dataframe tbody tr th:only-of-type {\n",
       "        vertical-align: middle;\n",
       "    }\n",
       "\n",
       "    .dataframe tbody tr th {\n",
       "        vertical-align: top;\n",
       "    }\n",
       "\n",
       "    .dataframe thead th {\n",
       "        text-align: right;\n",
       "    }\n",
       "</style>\n",
       "<table border=\"1\" class=\"dataframe\">\n",
       "  <thead>\n",
       "    <tr style=\"text-align: right;\">\n",
       "      <th></th>\n",
       "      <th>LocationID_count</th>\n",
       "      <th>AgeOfStore_mean</th>\n",
       "      <th>Sales_total</th>\n",
       "      <th>Sales_mean</th>\n",
       "    </tr>\n",
       "    <tr>\n",
       "      <th>Promotion</th>\n",
       "      <th></th>\n",
       "      <th></th>\n",
       "      <th></th>\n",
       "      <th></th>\n",
       "    </tr>\n",
       "  </thead>\n",
       "  <tbody>\n",
       "    <tr>\n",
       "      <th>1</th>\n",
       "      <td>172</td>\n",
       "      <td>8.279070</td>\n",
       "      <td>9993.03</td>\n",
       "      <td>58.099012</td>\n",
       "    </tr>\n",
       "    <tr>\n",
       "      <th>2</th>\n",
       "      <td>188</td>\n",
       "      <td>7.978723</td>\n",
       "      <td>8897.93</td>\n",
       "      <td>47.329415</td>\n",
       "    </tr>\n",
       "    <tr>\n",
       "      <th>3</th>\n",
       "      <td>188</td>\n",
       "      <td>9.234043</td>\n",
       "      <td>10408.52</td>\n",
       "      <td>55.364468</td>\n",
       "    </tr>\n",
       "  </tbody>\n",
       "</table>\n",
       "</div>"
      ],
      "text/plain": [
       "           LocationID_count  AgeOfStore_mean  Sales_total  Sales_mean\n",
       "Promotion                                                            \n",
       "1                       172         8.279070      9993.03   58.099012\n",
       "2                       188         7.978723      8897.93   47.329415\n",
       "3                       188         9.234043     10408.52   55.364468"
      ]
     },
     "execution_count": 8,
     "metadata": {},
     "output_type": "execute_result"
    }
   ],
   "source": [
    "df_grouped2 = df.groupby(\"Promotion\").agg(\n",
    "    {\"LocationID\": \"count\", \"AgeOfStore\": \"mean\", \"SalesInThousands\": [\"sum\", \"mean\"]}\n",
    ")\n",
    "df_grouped2.columns = [\n",
    "    \"LocationID_count\",\n",
    "    \"AgeOfStore_mean\",\n",
    "    \"Sales_total\",\n",
    "    \"Sales_mean\",\n",
    "]\n",
    "df_grouped2"
   ]
  },
  {
   "cell_type": "code",
   "execution_count": 9,
   "metadata": {},
   "outputs": [
    {
     "data": {
      "image/png": "[encoded data removed]",
      "text/plain": [
       "<Figure size 1200x500 with 3 Axes>"
      ]
     },
     "metadata": {},
     "output_type": "display_data"
    }
   ],
   "source": [
    "fig, ax1 = plt.subplots(figsize=(12, 5))\n",
    "\n",
    "colors = sns.color_palette(\"pastel\", n_colors=3)\n",
    "ax2 = ax1.twinx()\n",
    "ax3 = ax1.twinx()\n",
    "\n",
    "sns.barplot(\n",
    "    data=df_grouped,\n",
    "    x=\"MarketSize\",\n",
    "    y=\"Sales_total\",\n",
    "    hue=\"Promotion\",\n",
    "    palette=colors,\n",
    "    ax=ax1,\n",
    ")\n",
    "\n",
    "sns.scatterplot(\n",
    "    data=df_grouped,\n",
    "    x=\"MarketSize\",\n",
    "    y=\"Sales_mean\",\n",
    "    hue=\"Promotion\",\n",
    "    palette=colors,\n",
    "    ax=ax2,\n",
    "    s=100,\n",
    "    marker=\"o\",\n",
    "    edgecolor=\"black\",\n",
    ")\n",
    "\n",
    "for i in range(3):\n",
    "    ax3.axhline(\n",
    "        y=df_grouped2.iloc[i][\"Sales_mean\"],\n",
    "        color=colors[i],\n",
    "        linestyle=\"--\",\n",
    "        linewidth=1.5,\n",
    "        label=i + 1,\n",
    "    )\n",
    "\n",
    "ax1.set_ylabel(\"Total Sales, (thousands)\")\n",
    "ax1.set_xlabel(\"Market Size\")\n",
    "ax2.set_ylabel(\"Average Sales, (thousands)\")\n",
    "ax2.set_ylim(30, 80)\n",
    "ax3.set_ylim(30, 80)\n",
    "ax1.legend(\n",
    "    title=\"Total Sales by Promotion, by Market\", bbox_to_anchor=(0.3, -0.1), ncol=3\n",
    ")\n",
    "ax2.legend(\n",
    "    title=\"Average Sales by Promotion, by Market\", bbox_to_anchor=(1, -0.1), ncol=3\n",
    ")\n",
    "ax3.legend(title=\"Average Sales by Promotion\", bbox_to_anchor=(0.61, -0.1), ncol=3)\n",
    "fig.suptitle(\"Sales by Promotion\")\n",
    "\n",
    "plt.show()"
   ]
  },
  {
   "cell_type": "markdown",
   "metadata": {},
   "source": [
    "- Total sales are highest for **Promotion** no. 3, folowed by 1, and 2. However because of unequal **Location** split - average sales are highest for **Promotion** no 1, followed by 3 and 2.\n",
    "- Similar tendencies are when looking to each **Market Size** separately. Highest total sales of one **Promotion** are causes by higher number of **Locations** assigned to that **Promotion**. "
   ]
  },
  {
   "cell_type": "code",
   "execution_count": 10,
   "metadata": {},
   "outputs": [
    {
     "data": {
      "image/png": "[encoded data removed]",
      "text/plain": [
       "<Figure size 481.861x400 with 1 Axes>"
      ]
     },
     "metadata": {},
     "output_type": "display_data"
    }
   ],
   "source": [
    "sns.relplot(\n",
    "    data=df,\n",
    "    x=\"week\",\n",
    "    y=\"SalesInThousands\",\n",
    "    hue=\"Promotion\",\n",
    "    style=\"Promotion\",\n",
    "    kind=\"line\",\n",
    "    dashes=True,\n",
    "    palette=sns.color_palette(\"bright\", n_colors=3),\n",
    "    hue_order=[1, 2, 3],\n",
    "    height=4,\n",
    ")\n",
    "plt.suptitle(\"Weekly sales by Promotion\")\n",
    "plt.show()"
   ]
  },
  {
   "cell_type": "code",
   "execution_count": 11,
   "metadata": {},
   "outputs": [
    {
     "data": {
      "application/vnd.plotly.v1+json": {
       "config": {
        "plotlyServerURL": "https://plot.ly"
       },
       "data": [
        {
         "hovertemplate": "Promotion=1<br>MarketSize=Large<br>week=%{x}<br>SalesInThousands=%{y}<extra></extra>",
         "legendgroup": "1",
         "line": {
          "color": "#636efa",
          "dash": "solid"
         },
         "marker": {
          "symbol": "circle"
         },
         "mode": "lines",
         "name": "1",
         "orientation": "v",
         "showlegend": true,
         "type": "scatter",
         "x": [
          1,
          2,
          3,
          4,
          1,
          2,
          3,
          4,
          1,
          2,
          3,
          4,
          1,
          2,
          3,
          4,
          1,
          2,
          3,
          4,
          1,
          2,
          3,
          4,
          1,
          2,
          3,
          4,
          1,
          2,
          3,
          4,
          1,
          2,
          3,
          4,
          1,
          2,
          3,
          4,
          1,
          2,
          3,
          4,
          1,
          2,
          3,
          4,
          1,
          2,
          3,
          4,
          1,
          2,
          3,
          4
         ],
         "xaxis": "x",
         "y": [
          88.73,
          85.21,
          81.55,
          94.17,
          93.71,
          96.01,
          93.03,
          97.61,
          85.11,
          88.07,
          94.43,
          89.44,
          91.6,
          80.61,
          93.86,
          83.43,
          99.65,
          88.64,
          86.96,
          89.25,
          87.08,
          89.32,
          99.12,
          85.85,
          93.32,
          85.71,
          77.36,
          91.29,
          61.53,
          59.17,
          63.73,
          61.77,
          58.19,
          62.72,
          66.66,
          64.66,
          66.34,
          60.59,
          61.95,
          67.84,
          62.33,
          53.68,
          62.37,
          63.58,
          53.51,
          49.76,
          68.31,
          66.1,
          49.62,
          62.54,
          50.11,
          61.63,
          59.87,
          62.99,
          57.2,
          64.34
         ],
         "yaxis": "y"
        },
        {
         "hovertemplate": "Promotion=1<br>MarketSize=Medium<br>week=%{x}<br>SalesInThousands=%{y}<extra></extra>",
         "legendgroup": "1",
         "line": {
          "color": "#636efa",
          "dash": "solid"
         },
         "marker": {
          "symbol": "circle"
         },
         "mode": "lines",
         "name": "1",
         "orientation": "v",
         "showlegend": false,
         "type": "scatter",
         "x": [
          1,
          2,
          3,
          4,
          1,
          2,
          3,
          4,
          1,
          2,
          3,
          4,
          1,
          2,
          3,
          4,
          1,
          2,
          3,
          4,
          1,
          2,
          3,
          4,
          1,
          2,
          3,
          4,
          1,
          2,
          3,
          4,
          1,
          2,
          3,
          4,
          1,
          2,
          3,
          4,
          1,
          2,
          3,
          4,
          1,
          2,
          3,
          4,
          1,
          2,
          3,
          4,
          1,
          2,
          3,
          4,
          1,
          2,
          3,
          4,
          1,
          2,
          3,
          4,
          1,
          2,
          3,
          4,
          1,
          2,
          3,
          4,
          1,
          2,
          3,
          4,
          1,
          2,
          3,
          4,
          1,
          2,
          3,
          4,
          1,
          2,
          3,
          4,
          1,
          2,
          3,
          4,
          1,
          2,
          3,
          4
         ],
         "xaxis": "x2",
         "y": [
          44.54,
          37.94,
          45.49,
          34.75,
          42.92,
          42.16,
          51.72,
          36.17,
          37.41,
          38.64,
          40.9,
          41.11,
          35.85,
          36.24,
          41.73,
          37.32,
          50.48,
          36.88,
          35.68,
          46.45,
          49.95,
          55.11,
          55.28,
          54.7,
          59.34,
          62.63,
          49.08,
          58.04,
          42.16,
          36.8,
          46.98,
          47.35,
          40.46,
          41.25,
          32.05,
          47.5,
          35.3,
          35.86,
          49.3,
          30.81,
          44.98,
          41.71,
          41.1,
          40.97,
          41.1,
          41.56,
          36.39,
          39.67,
          53.38,
          55.31,
          56.1,
          43.24,
          48.18,
          43.11,
          43.78,
          56.9,
          53.53,
          47.92,
          56.18,
          46.66,
          42.76,
          50.52,
          56.86,
          47.51,
          51.82,
          45.02,
          49.44,
          51.32,
          52.85,
          40.84,
          64.45,
          44.43,
          56.64,
          46.06,
          55.46,
          51.41,
          56.99,
          45.57,
          45.92,
          50.52,
          54.95,
          55.78,
          46.49,
          56.84,
          65.11,
          54.38,
          57.14,
          49.91,
          50.54,
          58.43,
          59.77,
          60.44,
          49.3,
          61.8,
          58,
          55.2
         ],
         "yaxis": "y2"
        },
        {
         "hovertemplate": "Promotion=1<br>MarketSize=Small<br>week=%{x}<br>SalesInThousands=%{y}<extra></extra>",
         "legendgroup": "1",
         "line": {
          "color": "#636efa",
          "dash": "solid"
         },
         "marker": {
          "symbol": "circle"
         },
         "mode": "lines",
         "name": "1",
         "orientation": "v",
         "showlegend": false,
         "type": "scatter",
         "x": [
          1,
          2,
          3,
          4,
          1,
          2,
          3,
          4,
          1,
          2,
          3,
          4,
          1,
          2,
          3,
          4,
          1,
          2,
          3,
          4
         ],
         "xaxis": "x3",
         "y": [
          67.48,
          65.57,
          68.42,
          60.93,
          55.94,
          61.36,
          56.19,
          62.06,
          54.01,
          63.48,
          61.96,
          55.3,
          53.79,
          66.96,
          57.1,
          65.12,
          62.16,
          54.06,
          51.72,
          59.64
         ],
         "yaxis": "y3"
        },
        {
         "hovertemplate": "Promotion=2<br>MarketSize=Large<br>week=%{x}<br>SalesInThousands=%{y}<extra></extra>",
         "legendgroup": "2",
         "line": {
          "color": "#EF553B",
          "dash": "solid"
         },
         "marker": {
          "symbol": "circle"
         },
         "mode": "lines",
         "name": "2",
         "orientation": "v",
         "showlegend": true,
         "type": "scatter",
         "x": [
          1,
          2,
          3,
          4,
          1,
          2,
          3,
          4,
          1,
          2,
          3,
          4,
          1,
          2,
          3,
          4,
          1,
          2,
          3,
          4,
          1,
          2,
          3,
          4,
          1,
          2,
          3,
          4,
          1,
          2,
          3,
          4,
          1,
          2,
          3,
          4,
          1,
          2,
          3,
          4,
          1,
          2,
          3,
          4,
          1,
          2,
          3,
          4,
          1,
          2,
          3,
          4,
          1,
          2,
          3,
          4,
          1,
          2,
          3,
          4,
          1,
          2,
          3,
          4
         ],
         "xaxis": "x",
         "y": [
          87.43,
          81.79,
          88.12,
          75.29,
          88.64,
          81.37,
          82.14,
          79.64,
          73.22,
          75.88,
          78.01,
          80.17,
          82.65,
          77.39,
          80.83,
          80.75,
          66.22,
          82.86,
          83.4,
          75.61,
          79.53,
          74.03,
          78.53,
          76.71,
          53.76,
          39.36,
          47.2,
          53.66,
          51.09,
          54.82,
          44.16,
          53.95,
          51.26,
          51.73,
          51.35,
          41.85,
          45.21,
          55.02,
          45.35,
          47.06,
          43.59,
          46.03,
          47.22,
          51.41,
          55.39,
          49.16,
          58.26,
          48.12,
          49.98,
          44.84,
          55.12,
          47.36,
          44.7,
          43.44,
          52.36,
          45.9,
          43.61,
          46.2,
          51.52,
          49.71,
          50.2,
          45.75,
          44.29,
          49.41
         ],
         "yaxis": "y"
        },
        {
         "hovertemplate": "Promotion=2<br>MarketSize=Medium<br>week=%{x}<br>SalesInThousands=%{y}<extra></extra>",
         "legendgroup": "2",
         "line": {
          "color": "#EF553B",
          "dash": "solid"
         },
         "marker": {
          "symbol": "circle"
         },
         "mode": "lines",
         "name": "2",
         "orientation": "v",
         "showlegend": false,
         "type": "scatter",
         "x": [
          1,
          2,
          3,
          4,
          1,
          2,
          3,
          4,
          1,
          2,
          3,
          4,
          1,
          2,
          3,
          4,
          1,
          2,
          3,
          4,
          1,
          2,
          3,
          4,
          1,
          2,
          3,
          4,
          1,
          2,
          3,
          4,
          1,
          2,
          3,
          4,
          1,
          2,
          3,
          4,
          1,
          2,
          3,
          4,
          1,
          2,
          3,
          4,
          1,
          2,
          3,
          4,
          1,
          2,
          3,
          4,
          1,
          2,
          3,
          4,
          1,
          2,
          3,
          4,
          1,
          2,
          3,
          4,
          1,
          2,
          3,
          4,
          1,
          2,
          3,
          4,
          1,
          2,
          3,
          4,
          1,
          2,
          3,
          4,
          1,
          2,
          3,
          4,
          1,
          2,
          3,
          4,
          1,
          2,
          3,
          4,
          1,
          2,
          3,
          4,
          1,
          2,
          3,
          4,
          1,
          2,
          3,
          4
         ],
         "xaxis": "x2",
         "y": [
          27.81,
          34.67,
          27.98,
          27.72,
          39.28,
          39.8,
          24.77,
          30.98,
          30.37,
          24.82,
          37.47,
          23.35,
          30.08,
          28.62,
          25.4,
          27.26,
          34.27,
          29.3,
          23.93,
          35.16,
          40.4,
          50.28,
          52.72,
          38.3,
          51.79,
          42.56,
          44.64,
          45.11,
          42.15,
          42.59,
          49.56,
          39.25,
          48.18,
          48.25,
          46.42,
          43.77,
          45.3,
          48.84,
          45.08,
          44.67,
          47.33,
          45.42,
          44.31,
          40.26,
          43.27,
          48.33,
          44.14,
          51.5,
          46.26,
          47.71,
          54.09,
          46.89,
          31.94,
          29.64,
          33.64,
          36.05,
          36.7,
          41.53,
          27.71,
          37.2,
          32.21,
          38.41,
          37.9,
          44.84,
          37.45,
          35.46,
          31.85,
          19.26,
          38.65,
          17.34,
          33.14,
          23.44,
          32.77,
          30.26,
          27.55,
          27.37,
          40.71,
          38.26,
          41.44,
          25.7,
          49.39,
          40.25,
          42.46,
          31.62,
          38.56,
          37.29,
          35.6,
          33.35,
          48.5,
          36.8,
          48.32,
          41.54,
          32.61,
          57.27,
          37.32,
          41.22,
          39.73,
          50.3,
          40.16,
          41.37,
          48.76,
          44.14,
          58.1,
          44.16,
          46.02,
          51.09,
          51.68,
          55.91
         ],
         "yaxis": "y2"
        },
        {
         "hovertemplate": "Promotion=2<br>MarketSize=Small<br>week=%{x}<br>SalesInThousands=%{y}<extra></extra>",
         "legendgroup": "2",
         "line": {
          "color": "#EF553B",
          "dash": "solid"
         },
         "marker": {
          "symbol": "circle"
         },
         "mode": "lines",
         "name": "2",
         "orientation": "v",
         "showlegend": false,
         "type": "scatter",
         "x": [
          1,
          2,
          3,
          4,
          1,
          2,
          3,
          4,
          1,
          2,
          3,
          4,
          1,
          2,
          3,
          4
         ],
         "xaxis": "x3",
         "y": [
          49.61,
          43.69,
          54.49,
          61.25,
          47.89,
          52.37,
          49.11,
          52.88,
          46.98,
          53.41,
          36.17,
          55.98,
          51.87,
          58.01,
          47.93,
          51.33
         ],
         "yaxis": "y3"
        },
        {
         "hovertemplate": "Promotion=3<br>MarketSize=Large<br>week=%{x}<br>SalesInThousands=%{y}<extra></extra>",
         "legendgroup": "3",
         "line": {
          "color": "#00cc96",
          "dash": "solid"
         },
         "marker": {
          "symbol": "circle"
         },
         "mode": "lines",
         "name": "3",
         "orientation": "v",
         "showlegend": true,
         "type": "scatter",
         "x": [
          1,
          2,
          3,
          4,
          1,
          2,
          3,
          4,
          1,
          2,
          3,
          4,
          1,
          2,
          3,
          4,
          1,
          2,
          3,
          4,
          1,
          2,
          3,
          4,
          1,
          2,
          3,
          4,
          1,
          2,
          3,
          4,
          1,
          2,
          3,
          4,
          1,
          2,
          3,
          4,
          1,
          2,
          3,
          4,
          1,
          2,
          3,
          4
         ],
         "xaxis": "x",
         "y": [
          86.14,
          82.56,
          79.36,
          77.17,
          89.7,
          78.43,
          84.05,
          81.18,
          83.02,
          90.3,
          85.18,
          89.77,
          82.64,
          82.89,
          82.13,
          88.91,
          87.7,
          81.16,
          81.58,
          94.21,
          96.48,
          84.13,
          91.98,
          81.72,
          84.34,
          87.9,
          76.12,
          82.72,
          94.89,
          74.75,
          93.63,
          80.82,
          91.61,
          79.02,
          86.11,
          82.88,
          51.89,
          51.17,
          54.33,
          50.05,
          54.34,
          60.24,
          56.39,
          58.33,
          53.5,
          56.34,
          51.83,
          50.2
         ],
         "yaxis": "y"
        },
        {
         "hovertemplate": "Promotion=3<br>MarketSize=Medium<br>week=%{x}<br>SalesInThousands=%{y}<extra></extra>",
         "legendgroup": "3",
         "line": {
          "color": "#00cc96",
          "dash": "solid"
         },
         "marker": {
          "symbol": "circle"
         },
         "mode": "lines",
         "name": "3",
         "orientation": "v",
         "showlegend": false,
         "type": "scatter",
         "x": [
          1,
          2,
          3,
          4,
          1,
          2,
          3,
          4,
          1,
          2,
          3,
          4,
          1,
          2,
          3,
          4,
          1,
          2,
          3,
          4,
          1,
          2,
          3,
          4,
          1,
          2,
          3,
          4,
          1,
          2,
          3,
          4,
          1,
          2,
          3,
          4,
          1,
          2,
          3,
          4,
          1,
          2,
          3,
          4,
          1,
          2,
          3,
          4,
          1,
          2,
          3,
          4,
          1,
          2,
          3,
          4,
          1,
          2,
          3,
          4,
          1,
          2,
          3,
          4,
          1,
          2,
          3,
          4,
          1,
          2,
          3,
          4,
          1,
          2,
          3,
          4,
          1,
          2,
          3,
          4,
          1,
          2,
          3,
          4,
          1,
          2,
          3,
          4,
          1,
          2,
          3,
          4,
          1,
          2,
          3,
          4,
          1,
          2,
          3,
          4,
          1,
          2,
          3,
          4,
          1,
          2,
          3,
          4,
          1,
          2,
          3,
          4,
          1,
          2,
          3,
          4
         ],
         "xaxis": "x2",
         "y": [
          33.73,
          35.67,
          29.03,
          39.25,
          32.9,
          22.18,
          42.98,
          26.68,
          33.42,
          37.93,
          33.85,
          40.25,
          52.23,
          51.68,
          46.22,
          46.03,
          45.56,
          55.19,
          37.84,
          50.07,
          50.11,
          55.59,
          54.37,
          51.91,
          57.37,
          55.53,
          51.16,
          57.06,
          50.59,
          48.64,
          50.55,
          49.08,
          24.75,
          41.47,
          35.1,
          34.33,
          37.17,
          30.52,
          32.51,
          29.12,
          47.48,
          39.41,
          43.29,
          42.59,
          34.46,
          40.13,
          32.18,
          43.73,
          49.01,
          46.29,
          37.14,
          42.82,
          47.22,
          35.24,
          47.22,
          43.15,
          40.29,
          48.35,
          43.26,
          44.2,
          46.14,
          41.12,
          45.03,
          38.85,
          41.96,
          42.27,
          38.51,
          43.51,
          40.43,
          51.15,
          42.5,
          52.76,
          47.63,
          52.21,
          40.17,
          48.36,
          53.56,
          49.72,
          48.77,
          46.84,
          49.67,
          49.98,
          49.5,
          47.35,
          50.26,
          52.05,
          51.14,
          46.3,
          54.79,
          52.39,
          42.15,
          49.63,
          48.06,
          51.09,
          44.19,
          49.52,
          44.66,
          53.78,
          43.91,
          52.41,
          50.94,
          49.38,
          63.98,
          45.84,
          51.01,
          56.16,
          45.77,
          46.47,
          55.9,
          59.8,
          60.97,
          64.14,
          39.98,
          54.58,
          52.64,
          45.43
         ],
         "yaxis": "y2"
        },
        {
         "hovertemplate": "Promotion=3<br>MarketSize=Small<br>week=%{x}<br>SalesInThousands=%{y}<extra></extra>",
         "legendgroup": "3",
         "line": {
          "color": "#00cc96",
          "dash": "solid"
         },
         "marker": {
          "symbol": "circle"
         },
         "mode": "lines",
         "name": "3",
         "orientation": "v",
         "showlegend": false,
         "type": "scatter",
         "x": [
          1,
          2,
          3,
          4,
          1,
          2,
          3,
          4,
          1,
          2,
          3,
          4,
          1,
          2,
          3,
          4,
          1,
          2,
          3,
          4,
          1,
          2,
          3,
          4
         ],
         "xaxis": "x3",
         "y": [
          61.59,
          63.64,
          54.68,
          61.24,
          62.93,
          58.77,
          70.6,
          65.06,
          59.76,
          66.11,
          62.16,
          64.04,
          59.65,
          57.04,
          59.73,
          56.72,
          58.55,
          62.19,
          53.14,
          62.27,
          51.47,
          53.47,
          46.83,
          56.7
         ],
         "yaxis": "y3"
        }
       ],
       "layout": {
        "annotations": [
         {
          "font": {},
          "showarrow": false,
          "text": "MarketSize=Large",
          "x": 0.15999999999999998,
          "xanchor": "center",
          "xref": "paper",
          "y": 1,
          "yanchor": "bottom",
          "yref": "paper"
         },
         {
          "font": {},
          "showarrow": false,
          "text": "MarketSize=Medium",
          "x": 0.49999999999999994,
          "xanchor": "center",
          "xref": "paper",
          "y": 1,
          "yanchor": "bottom",
          "yref": "paper"
         },
         {
          "font": {},
          "showarrow": false,
          "text": "MarketSize=Small",
          "x": 0.8399999999999999,
          "xanchor": "center",
          "xref": "paper",
          "y": 1,
          "yanchor": "bottom",
          "yref": "paper"
         }
        ],
        "legend": {
         "title": {
          "text": "Promotion"
         },
         "tracegroupgap": 0
        },
        "margin": {
         "t": 60
        },
        "template": {
         "data": {
          "bar": [
           {
            "error_x": {
             "color": "#2a3f5f"
            },
            "error_y": {
             "color": "#2a3f5f"
            },
            "marker": {
             "line": {
              "color": "#E5ECF6",
              "width": 0.5
             },
             "pattern": {
              "fillmode": "overlay",
              "size": 10,
              "solidity": 0.2
             }
            },
            "type": "bar"
           }
          ],
          "barpolar": [
           {
            "marker": {
             "line": {
              "color": "#E5ECF6",
              "width": 0.5
             },
             "pattern": {
              "fillmode": "overlay",
              "size": 10,
              "solidity": 0.2
             }
            },
            "type": "barpolar"
           }
          ],
          "carpet": [
           {
            "aaxis": {
             "endlinecolor": "#2a3f5f",
             "gridcolor": "white",
             "linecolor": "white",
             "minorgridcolor": "white",
             "startlinecolor": "#2a3f5f"
            },
            "baxis": {
             "endlinecolor": "#2a3f5f",
             "gridcolor": "white",
             "linecolor": "white",
             "minorgridcolor": "white",
             "startlinecolor": "#2a3f5f"
            },
            "type": "carpet"
           }
          ],
          "choropleth": [
           {
            "colorbar": {
             "outlinewidth": 0,
             "ticks": ""
            },
            "type": "choropleth"
           }
          ],
          "contour": [
           {
            "colorbar": {
             "outlinewidth": 0,
             "ticks": ""
            },
            "colorscale": [
             [
              0,
              "#0d0887"
             ],
             [
              0.1111111111111111,
              "#46039f"
             ],
             [
              0.2222222222222222,
              "#7201a8"
             ],
             [
              0.3333333333333333,
              "#9c179e"
             ],
             [
              0.4444444444444444,
              "#bd3786"
             ],
             [
              0.5555555555555556,
              "#d8576b"
             ],
             [
              0.6666666666666666,
              "#ed7953"
             ],
             [
              0.7777777777777778,
              "#fb9f3a"
             ],
             [
              0.8888888888888888,
              "#fdca26"
             ],
             [
              1,
              "#f0f921"
             ]
            ],
            "type": "contour"
           }
          ],
          "contourcarpet": [
           {
            "colorbar": {
             "outlinewidth": 0,
             "ticks": ""
            },
            "type": "contourcarpet"
           }
          ],
          "heatmap": [
           {
            "colorbar": {
             "outlinewidth": 0,
             "ticks": ""
            },
            "colorscale": [
             [
              0,
              "#0d0887"
             ],
             [
              0.1111111111111111,
              "#46039f"
             ],
             [
              0.2222222222222222,
              "#7201a8"
             ],
             [
              0.3333333333333333,
              "#9c179e"
             ],
             [
              0.4444444444444444,
              "#bd3786"
             ],
             [
              0.5555555555555556,
              "#d8576b"
             ],
             [
              0.6666666666666666,
              "#ed7953"
             ],
             [
              0.7777777777777778,
              "#fb9f3a"
             ],
             [
              0.8888888888888888,
              "#fdca26"
             ],
             [
              1,
              "#f0f921"
             ]
            ],
            "type": "heatmap"
           }
          ],
          "heatmapgl": [
           {
            "colorbar": {
             "outlinewidth": 0,
             "ticks": ""
            },
            "colorscale": [
             [
              0,
              "#0d0887"
             ],
             [
              0.1111111111111111,
              "#46039f"
             ],
             [
              0.2222222222222222,
              "#7201a8"
             ],
             [
              0.3333333333333333,
              "#9c179e"
             ],
             [
              0.4444444444444444,
              "#bd3786"
             ],
             [
              0.5555555555555556,
              "#d8576b"
             ],
             [
              0.6666666666666666,
              "#ed7953"
             ],
             [
              0.7777777777777778,
              "#fb9f3a"
             ],
             [
              0.8888888888888888,
              "#fdca26"
             ],
             [
              1,
              "#f0f921"
             ]
            ],
            "type": "heatmapgl"
           }
          ],
          "histogram": [
           {
            "marker": {
             "pattern": {
              "fillmode": "overlay",
              "size": 10,
              "solidity": 0.2
             }
            },
            "type": "histogram"
           }
          ],
          "histogram2d": [
           {
            "colorbar": {
             "outlinewidth": 0,
             "ticks": ""
            },
            "colorscale": [
             [
              0,
              "#0d0887"
             ],
             [
              0.1111111111111111,
              "#46039f"
             ],
             [
              0.2222222222222222,
              "#7201a8"
             ],
             [
              0.3333333333333333,
              "#9c179e"
             ],
             [
              0.4444444444444444,
              "#bd3786"
             ],
             [
              0.5555555555555556,
              "#d8576b"
             ],
             [
              0.6666666666666666,
              "#ed7953"
             ],
             [
              0.7777777777777778,
              "#fb9f3a"
             ],
             [
              0.8888888888888888,
              "#fdca26"
             ],
             [
              1,
              "#f0f921"
             ]
            ],
            "type": "histogram2d"
           }
          ],
          "histogram2dcontour": [
           {
            "colorbar": {
             "outlinewidth": 0,
             "ticks": ""
            },
            "colorscale": [
             [
              0,
              "#0d0887"
             ],
             [
              0.1111111111111111,
              "#46039f"
             ],
             [
              0.2222222222222222,
              "#7201a8"
             ],
             [
              0.3333333333333333,
              "#9c179e"
             ],
             [
              0.4444444444444444,
              "#bd3786"
             ],
             [
              0.5555555555555556,
              "#d8576b"
             ],
             [
              0.6666666666666666,
              "#ed7953"
             ],
             [
              0.7777777777777778,
              "#fb9f3a"
             ],
             [
              0.8888888888888888,
              "#fdca26"
             ],
             [
              1,
              "#f0f921"
             ]
            ],
            "type": "histogram2dcontour"
           }
          ],
          "mesh3d": [
           {
            "colorbar": {
             "outlinewidth": 0,
             "ticks": ""
            },
            "type": "mesh3d"
           }
          ],
          "parcoords": [
           {
            "line": {
             "colorbar": {
              "outlinewidth": 0,
              "ticks": ""
             }
            },
            "type": "parcoords"
           }
          ],
          "pie": [
           {
            "automargin": true,
            "type": "pie"
           }
          ],
          "scatter": [
           {
            "fillpattern": {
             "fillmode": "overlay",
             "size": 10,
             "solidity": 0.2
            },
            "type": "scatter"
           }
          ],
          "scatter3d": [
           {
            "line": {
             "colorbar": {
              "outlinewidth": 0,
              "ticks": ""
             }
            },
            "marker": {
             "colorbar": {
              "outlinewidth": 0,
              "ticks": ""
             }
            },
            "type": "scatter3d"
           }
          ],
          "scattercarpet": [
           {
            "marker": {
             "colorbar": {
              "outlinewidth": 0,
              "ticks": ""
             }
            },
            "type": "scattercarpet"
           }
          ],
          "scattergeo": [
           {
            "marker": {
             "colorbar": {
              "outlinewidth": 0,
              "ticks": ""
             }
            },
            "type": "scattergeo"
           }
          ],
          "scattergl": [
           {
            "marker": {
             "colorbar": {
              "outlinewidth": 0,
              "ticks": ""
             }
            },
            "type": "scattergl"
           }
          ],
          "scattermapbox": [
           {
            "marker": {
             "colorbar": {
              "outlinewidth": 0,
              "ticks": ""
             }
            },
            "type": "scattermapbox"
           }
          ],
          "scatterpolar": [
           {
            "marker": {
             "colorbar": {
              "outlinewidth": 0,
              "ticks": ""
             }
            },
            "type": "scatterpolar"
           }
          ],
          "scatterpolargl": [
           {
            "marker": {
             "colorbar": {
              "outlinewidth": 0,
              "ticks": ""
             }
            },
            "type": "scatterpolargl"
           }
          ],
          "scatterternary": [
           {
            "marker": {
             "colorbar": {
              "outlinewidth": 0,
              "ticks": ""
             }
            },
            "type": "scatterternary"
           }
          ],
          "surface": [
           {
            "colorbar": {
             "outlinewidth": 0,
             "ticks": ""
            },
            "colorscale": [
             [
              0,
              "#0d0887"
             ],
             [
              0.1111111111111111,
              "#46039f"
             ],
             [
              0.2222222222222222,
              "#7201a8"
             ],
             [
              0.3333333333333333,
              "#9c179e"
             ],
             [
              0.4444444444444444,
              "#bd3786"
             ],
             [
              0.5555555555555556,
              "#d8576b"
             ],
             [
              0.6666666666666666,
              "#ed7953"
             ],
             [
              0.7777777777777778,
              "#fb9f3a"
             ],
             [
              0.8888888888888888,
              "#fdca26"
             ],
             [
              1,
              "#f0f921"
             ]
            ],
            "type": "surface"
           }
          ],
          "table": [
           {
            "cells": {
             "fill": {
              "color": "#EBF0F8"
             },
             "line": {
              "color": "white"
             }
            },
            "header": {
             "fill": {
              "color": "#C8D4E3"
             },
             "line": {
              "color": "white"
             }
            },
            "type": "table"
           }
          ]
         },
         "layout": {
          "annotationdefaults": {
           "arrowcolor": "#2a3f5f",
           "arrowhead": 0,
           "arrowwidth": 1
          },
          "autotypenumbers": "strict",
          "coloraxis": {
           "colorbar": {
            "outlinewidth": 0,
            "ticks": ""
           }
          },
          "colorscale": {
           "diverging": [
            [
             0,
             "#8e0152"
            ],
            [
             0.1,
             "#c51b7d"
            ],
            [
             0.2,
             "#de77ae"
            ],
            [
             0.3,
             "#f1b6da"
            ],
            [
             0.4,
             "#fde0ef"
            ],
            [
             0.5,
             "#f7f7f7"
            ],
            [
             0.6,
             "#e6f5d0"
            ],
            [
             0.7,
             "#b8e186"
            ],
            [
             0.8,
             "#7fbc41"
            ],
            [
             0.9,
             "#4d9221"
            ],
            [
             1,
             "#276419"
            ]
           ],
           "sequential": [
            [
             0,
             "#0d0887"
            ],
            [
             0.1111111111111111,
             "#46039f"
            ],
            [
             0.2222222222222222,
             "#7201a8"
            ],
            [
             0.3333333333333333,
             "#9c179e"
            ],
            [
             0.4444444444444444,
             "#bd3786"
            ],
            [
             0.5555555555555556,
             "#d8576b"
            ],
            [
             0.6666666666666666,
             "#ed7953"
            ],
            [
             0.7777777777777778,
             "#fb9f3a"
            ],
            [
             0.8888888888888888,
             "#fdca26"
            ],
            [
             1,
             "#f0f921"
            ]
           ],
           "sequentialminus": [
            [
             0,
             "#0d0887"
            ],
            [
             0.1111111111111111,
             "#46039f"
            ],
            [
             0.2222222222222222,
             "#7201a8"
            ],
            [
             0.3333333333333333,
             "#9c179e"
            ],
            [
             0.4444444444444444,
             "#bd3786"
            ],
            [
             0.5555555555555556,
             "#d8576b"
            ],
            [
             0.6666666666666666,
             "#ed7953"
            ],
            [
             0.7777777777777778,
             "#fb9f3a"
            ],
            [
             0.8888888888888888,
             "#fdca26"
            ],
            [
             1,
             "#f0f921"
            ]
           ]
          },
          "colorway": [
           "#636efa",
           "#EF553B",
           "#00cc96",
           "#ab63fa",
           "#FFA15A",
           "#19d3f3",
           "#FF6692",
           "#B6E880",
           "#FF97FF",
           "#FECB52"
          ],
          "font": {
           "color": "#2a3f5f"
          },
          "geo": {
           "bgcolor": "white",
           "lakecolor": "white",
           "landcolor": "#E5ECF6",
           "showlakes": true,
           "showland": true,
           "subunitcolor": "white"
          },
          "hoverlabel": {
           "align": "left"
          },
          "hovermode": "closest",
          "mapbox": {
           "style": "light"
          },
          "paper_bgcolor": "white",
          "plot_bgcolor": "#E5ECF6",
          "polar": {
           "angularaxis": {
            "gridcolor": "white",
            "linecolor": "white",
            "ticks": ""
           },
           "bgcolor": "#E5ECF6",
           "radialaxis": {
            "gridcolor": "white",
            "linecolor": "white",
            "ticks": ""
           }
          },
          "scene": {
           "xaxis": {
            "backgroundcolor": "#E5ECF6",
            "gridcolor": "white",
            "gridwidth": 2,
            "linecolor": "white",
            "showbackground": true,
            "ticks": "",
            "zerolinecolor": "white"
           },
           "yaxis": {
            "backgroundcolor": "#E5ECF6",
            "gridcolor": "white",
            "gridwidth": 2,
            "linecolor": "white",
            "showbackground": true,
            "ticks": "",
            "zerolinecolor": "white"
           },
           "zaxis": {
            "backgroundcolor": "#E5ECF6",
            "gridcolor": "white",
            "gridwidth": 2,
            "linecolor": "white",
            "showbackground": true,
            "ticks": "",
            "zerolinecolor": "white"
           }
          },
          "shapedefaults": {
           "line": {
            "color": "#2a3f5f"
           }
          },
          "ternary": {
           "aaxis": {
            "gridcolor": "white",
            "linecolor": "white",
            "ticks": ""
           },
           "baxis": {
            "gridcolor": "white",
            "linecolor": "white",
            "ticks": ""
           },
           "bgcolor": "#E5ECF6",
           "caxis": {
            "gridcolor": "white",
            "linecolor": "white",
            "ticks": ""
           }
          },
          "title": {
           "x": 0.05
          },
          "xaxis": {
           "automargin": true,
           "gridcolor": "white",
           "linecolor": "white",
           "ticks": "",
           "title": {
            "standoff": 15
           },
           "zerolinecolor": "white",
           "zerolinewidth": 2
          },
          "yaxis": {
           "automargin": true,
           "gridcolor": "white",
           "linecolor": "white",
           "ticks": "",
           "title": {
            "standoff": 15
           },
           "zerolinecolor": "white",
           "zerolinewidth": 2
          }
         }
        },
        "title": {
         "text": "Weekly sales by Promotion and LocationID",
         "x": 0.5,
         "xanchor": "center"
        },
        "xaxis": {
         "anchor": "y",
         "domain": [
          0,
          0.31999999999999995
         ],
         "title": {
          "text": "week"
         }
        },
        "xaxis2": {
         "anchor": "y2",
         "domain": [
          0.33999999999999997,
          0.6599999999999999
         ],
         "matches": "x",
         "title": {
          "text": "week"
         }
        },
        "xaxis3": {
         "anchor": "y3",
         "domain": [
          0.6799999999999999,
          0.9999999999999999
         ],
         "matches": "x",
         "title": {
          "text": "week"
         }
        },
        "yaxis": {
         "anchor": "x",
         "domain": [
          0,
          1
         ],
         "title": {
          "text": "SalesInThousands"
         }
        },
        "yaxis2": {
         "anchor": "x2",
         "domain": [
          0,
          1
         ],
         "matches": "y",
         "showticklabels": false
        },
        "yaxis3": {
         "anchor": "x3",
         "domain": [
          0,
          1
         ],
         "matches": "y",
         "showticklabels": false
        }
       }
      }
     },
     "metadata": {},
     "output_type": "display_data"
    }
   ],
   "source": [
    "fig = px.line(\n",
    "    df,\n",
    "    x=\"week\",\n",
    "    y=\"SalesInThousands\",\n",
    "    facet_col=\"MarketSize\",\n",
    "    color=\"Promotion\",\n",
    "    category_orders={\n",
    "        \"Promotion\": [1, 2, 3],\n",
    "        \"MarketSize\": [\"Large\", \"Medium\", \"Small\"],\n",
    "    },\n",
    ")\n",
    "\n",
    "fig.update_layout(\n",
    "    title={\n",
    "        \"text\": \"Weekly sales by Promotion and LocationID\",\n",
    "        \"x\": 0.5,\n",
    "        \"xanchor\": \"center\",\n",
    "    }\n",
    ")\n",
    "\n",
    "fig.show()"
   ]
  },
  {
   "cell_type": "markdown",
   "metadata": {},
   "source": [
    "- Average weekly sale by **Promotion** show some deviations between weeks, however they are not extreme.\n",
    "- Some confidence intervals overlap, suggesting that there may be no significant difference between **Promotions**. This will have to be tested.\n",
    "- Weekly sales by each **Promotion** and **LocationID** doesn't show any significant deviations from average tendencies. "
   ]
  },
  {
   "cell_type": "markdown",
   "metadata": {},
   "source": [
    "### Limitations"
   ]
  },
  {
   "cell_type": "markdown",
   "metadata": {},
   "source": [
    "- Not equal assignement to **Promotion** groups.\n",
    "- No base line for sales without **Promotion**. This allows only to compare if there is difference in performance of **Promotions**. However it is not clear if **Promotion** itself makes sence e.g. if there is difference between **Promotion** and **no Promotion**."
   ]
  },
  {
   "cell_type": "markdown",
   "metadata": {},
   "source": [
    "## 1. Goal"
   ]
  },
  {
   "cell_type": "markdown",
   "metadata": {},
   "source": [
    "Evaluate A/B testing results and decide which marketing strategy works the best."
   ]
  },
  {
   "cell_type": "markdown",
   "metadata": {},
   "source": [
    "## 2. Target Metric"
   ]
  },
  {
   "cell_type": "markdown",
   "metadata": {},
   "source": [
    "Sales for each **Promotion**."
   ]
  },
  {
   "cell_type": "markdown",
   "metadata": {},
   "source": [
    "## 3. Analysis"
   ]
  },
  {
   "cell_type": "markdown",
   "metadata": {},
   "source": [
    "Analysis is divided into folowing steps:\n",
    "1. Hypothesis\n",
    "2. Asumptions\n",
    "3. Assumption Tests\n",
    "4. Hypothesis Testing"
   ]
  },
  {
   "cell_type": "markdown",
   "metadata": {},
   "source": [
    "### 3.1 Hypothesis"
   ]
  },
  {
   "cell_type": "markdown",
   "metadata": {},
   "source": [
    "When comparing the means of three groups in an A/B test context, typically ANOVA (Analysis of Variance) test is used. One-way ANOVA is suitable for  comparing the differences among groups in terms of a single factor, this case - **Promotion**.\n",
    "\n",
    "ANOVA is used to test whether there are statistically significant differences between the means of three or more independent groups in terms of the target metric. This case - Sales.\n",
    "\n",
    "If the ANOVA test is significant, post hoc tests can be performed further (like Tukey's HSD test) to identify which specific groups differ from each other."
   ]
  },
  {
   "cell_type": "markdown",
   "metadata": {},
   "source": [
    "Having this in mind, hypethesis is formulated as follows:\n",
    "\n",
    "$H_0: \\mu_{Promotion 1} = \\mu_{Promotion 2} = \\mu_{Promotion 3} \\\\$ \n",
    "There is no statistically significant difference between Sales of he Promotions\n",
    "\n",
    "$H_1: \\mu_{Promotion 1} \\neq \\mu_{Promotion 2} \\neq \\mu_{Promotion 3}\\\\$ \n",
    "There is statistically significant difference between Sales of he Promotions\n",
    "\n",
    "where $\\mu$ is average sales of respective **Promotion**"
   ]
  },
  {
   "cell_type": "markdown",
   "metadata": {},
   "source": [
    "### 3.2 Assumptions"
   ]
  },
  {
   "cell_type": "markdown",
   "metadata": {},
   "source": [
    "Before using ANOVA, it is important to check that following assumptions are met:\n",
    "\n",
    "- Independence: The observations in each group must be independent of each other. \n",
    "- Normality: The data in each group should follow a normal distribution. This will be tested using the Shapiro-Wilk tests.\n",
    "- Homogeneity of Variances: The variances across the groups should be equal. This can be tested using Levene's Test."
   ]
  },
  {
   "cell_type": "markdown",
   "metadata": {},
   "source": [
    "### 3.3 Assumption Tests"
   ]
  },
  {
   "cell_type": "markdown",
   "metadata": {},
   "source": [
    "#### Independence"
   ]
  },
  {
   "cell_type": "markdown",
   "metadata": {},
   "source": [
    "- Each **LocationID** was assigned to separate **Promotion**. No **LocationID** participates in more than one **Promotion**.\n",
    "- Each **Promotion** has not exact, but relatively similar group size (43-47 LocationID's)."
   ]
  },
  {
   "cell_type": "markdown",
   "metadata": {},
   "source": [
    "It will be checked if there is **Sales** correlation between weeks. \n",
    "- If no or week correlation found, weekly data will be used as observation.\n",
    "- If correlation is strong - aggregated **Sales** by **LocationID** will be used. "
   ]
  },
  {
   "cell_type": "code",
   "execution_count": 12,
   "metadata": {},
   "outputs": [
    {
     "data": {
      "text/html": [
       "<div>\n",
       "<style scoped>\n",
       "    .dataframe tbody tr th:only-of-type {\n",
       "        vertical-align: middle;\n",
       "    }\n",
       "\n",
       "    .dataframe tbody tr th {\n",
       "        vertical-align: top;\n",
       "    }\n",
       "\n",
       "    .dataframe thead th {\n",
       "        text-align: right;\n",
       "    }\n",
       "</style>\n",
       "<table border=\"1\" class=\"dataframe\">\n",
       "  <thead>\n",
       "    <tr style=\"text-align: right;\">\n",
       "      <th>week</th>\n",
       "      <th>1</th>\n",
       "      <th>2</th>\n",
       "      <th>3</th>\n",
       "      <th>4</th>\n",
       "    </tr>\n",
       "    <tr>\n",
       "      <th>week</th>\n",
       "      <th></th>\n",
       "      <th></th>\n",
       "      <th></th>\n",
       "      <th></th>\n",
       "    </tr>\n",
       "  </thead>\n",
       "  <tbody>\n",
       "    <tr>\n",
       "      <th>1</th>\n",
       "      <td>1.000000</td>\n",
       "      <td>0.899667</td>\n",
       "      <td>0.918814</td>\n",
       "      <td>0.916938</td>\n",
       "    </tr>\n",
       "    <tr>\n",
       "      <th>2</th>\n",
       "      <td>0.899667</td>\n",
       "      <td>1.000000</td>\n",
       "      <td>0.880008</td>\n",
       "      <td>0.935636</td>\n",
       "    </tr>\n",
       "    <tr>\n",
       "      <th>3</th>\n",
       "      <td>0.918814</td>\n",
       "      <td>0.880008</td>\n",
       "      <td>1.000000</td>\n",
       "      <td>0.886455</td>\n",
       "    </tr>\n",
       "    <tr>\n",
       "      <th>4</th>\n",
       "      <td>0.916938</td>\n",
       "      <td>0.935636</td>\n",
       "      <td>0.886455</td>\n",
       "      <td>1.000000</td>\n",
       "    </tr>\n",
       "  </tbody>\n",
       "</table>\n",
       "</div>"
      ],
      "text/plain": [
       "week         1         2         3         4\n",
       "week                                        \n",
       "1     1.000000  0.899667  0.918814  0.916938\n",
       "2     0.899667  1.000000  0.880008  0.935636\n",
       "3     0.918814  0.880008  1.000000  0.886455\n",
       "4     0.916938  0.935636  0.886455  1.000000"
      ]
     },
     "execution_count": 12,
     "metadata": {},
     "output_type": "execute_result"
    }
   ],
   "source": [
    "df_weekly = df.pivot_table(\n",
    "    index=\"LocationID\", columns=\"week\", values=\"SalesInThousands\"\n",
    ")\n",
    "df_weekly.corr()"
   ]
  },
  {
   "cell_type": "markdown",
   "metadata": {},
   "source": [
    "Correlation coeficient is higher than 0.8 what indicates strong correlation between weekly sales. There for dataset will be agregated to have total sales for each **LocationID** which with condition that each **LocationID** belongs to different **Promotion** will be treated as independent."
   ]
  },
  {
   "cell_type": "code",
   "execution_count": 13,
   "metadata": {},
   "outputs": [
    {
     "data": {
      "text/html": [
       "<div>\n",
       "<style scoped>\n",
       "    .dataframe tbody tr th:only-of-type {\n",
       "        vertical-align: middle;\n",
       "    }\n",
       "\n",
       "    .dataframe tbody tr th {\n",
       "        vertical-align: top;\n",
       "    }\n",
       "\n",
       "    .dataframe thead th {\n",
       "        text-align: right;\n",
       "    }\n",
       "</style>\n",
       "<table border=\"1\" class=\"dataframe\">\n",
       "  <thead>\n",
       "    <tr style=\"text-align: right;\">\n",
       "      <th></th>\n",
       "      <th>LocationID</th>\n",
       "      <th>SalesInThousands</th>\n",
       "      <th>MarketSize</th>\n",
       "      <th>AgeOfStore</th>\n",
       "      <th>MarketID</th>\n",
       "      <th>Promotion</th>\n",
       "    </tr>\n",
       "  </thead>\n",
       "  <tbody>\n",
       "    <tr>\n",
       "      <th>0</th>\n",
       "      <td>1</td>\n",
       "      <td>137.68</td>\n",
       "      <td>Medium</td>\n",
       "      <td>4</td>\n",
       "      <td>1</td>\n",
       "      <td>3</td>\n",
       "    </tr>\n",
       "    <tr>\n",
       "      <th>1</th>\n",
       "      <td>2</td>\n",
       "      <td>118.18</td>\n",
       "      <td>Medium</td>\n",
       "      <td>5</td>\n",
       "      <td>1</td>\n",
       "      <td>2</td>\n",
       "    </tr>\n",
       "    <tr>\n",
       "      <th>2</th>\n",
       "      <td>3</td>\n",
       "      <td>162.72</td>\n",
       "      <td>Medium</td>\n",
       "      <td>12</td>\n",
       "      <td>1</td>\n",
       "      <td>1</td>\n",
       "    </tr>\n",
       "    <tr>\n",
       "      <th>3</th>\n",
       "      <td>4</td>\n",
       "      <td>134.83</td>\n",
       "      <td>Medium</td>\n",
       "      <td>1</td>\n",
       "      <td>1</td>\n",
       "      <td>2</td>\n",
       "    </tr>\n",
       "    <tr>\n",
       "      <th>4</th>\n",
       "      <td>5</td>\n",
       "      <td>116.01</td>\n",
       "      <td>Medium</td>\n",
       "      <td>10</td>\n",
       "      <td>1</td>\n",
       "      <td>2</td>\n",
       "    </tr>\n",
       "    <tr>\n",
       "      <th>...</th>\n",
       "      <td>...</td>\n",
       "      <td>...</td>\n",
       "      <td>...</td>\n",
       "      <td>...</td>\n",
       "      <td>...</td>\n",
       "      <td>...</td>\n",
       "    </tr>\n",
       "    <tr>\n",
       "      <th>132</th>\n",
       "      <td>916</td>\n",
       "      <td>191.04</td>\n",
       "      <td>Large</td>\n",
       "      <td>7</td>\n",
       "      <td>10</td>\n",
       "      <td>2</td>\n",
       "    </tr>\n",
       "    <tr>\n",
       "      <th>133</th>\n",
       "      <td>917</td>\n",
       "      <td>211.87</td>\n",
       "      <td>Large</td>\n",
       "      <td>14</td>\n",
       "      <td>10</td>\n",
       "      <td>3</td>\n",
       "    </tr>\n",
       "    <tr>\n",
       "      <th>134</th>\n",
       "      <td>918</td>\n",
       "      <td>223.90</td>\n",
       "      <td>Large</td>\n",
       "      <td>6</td>\n",
       "      <td>10</td>\n",
       "      <td>1</td>\n",
       "    </tr>\n",
       "    <tr>\n",
       "      <th>135</th>\n",
       "      <td>919</td>\n",
       "      <td>244.40</td>\n",
       "      <td>Large</td>\n",
       "      <td>2</td>\n",
       "      <td>10</td>\n",
       "      <td>1</td>\n",
       "    </tr>\n",
       "    <tr>\n",
       "      <th>136</th>\n",
       "      <td>920</td>\n",
       "      <td>189.65</td>\n",
       "      <td>Large</td>\n",
       "      <td>14</td>\n",
       "      <td>10</td>\n",
       "      <td>2</td>\n",
       "    </tr>\n",
       "  </tbody>\n",
       "</table>\n",
       "<p>137 rows × 6 columns</p>\n",
       "</div>"
      ],
      "text/plain": [
       "     LocationID  SalesInThousands MarketSize  AgeOfStore  MarketID  Promotion\n",
       "0             1            137.68     Medium           4         1          3\n",
       "1             2            118.18     Medium           5         1          2\n",
       "2             3            162.72     Medium          12         1          1\n",
       "3             4            134.83     Medium           1         1          2\n",
       "4             5            116.01     Medium          10         1          2\n",
       "..          ...               ...        ...         ...       ...        ...\n",
       "132         916            191.04      Large           7        10          2\n",
       "133         917            211.87      Large          14        10          3\n",
       "134         918            223.90      Large           6        10          1\n",
       "135         919            244.40      Large           2        10          1\n",
       "136         920            189.65      Large          14        10          2\n",
       "\n",
       "[137 rows x 6 columns]"
      ]
     },
     "execution_count": 13,
     "metadata": {},
     "output_type": "execute_result"
    }
   ],
   "source": [
    "df_agg = (\n",
    "    df.groupby(\"LocationID\")\n",
    "    .agg(\n",
    "        {\n",
    "            \"SalesInThousands\": \"sum\",\n",
    "            \"MarketSize\": \"first\",\n",
    "            \"AgeOfStore\": \"first\",\n",
    "            \"MarketID\": \"first\",\n",
    "            \"Promotion\": \"first\",\n",
    "        }\n",
    "    )\n",
    "    .reset_index()\n",
    ")\n",
    "\n",
    "df_agg"
   ]
  },
  {
   "cell_type": "markdown",
   "metadata": {},
   "source": [
    "#### Normality check"
   ]
  },
  {
   "cell_type": "markdown",
   "metadata": {},
   "source": [
    "Shapiro-Wilk test will be used to check Normality.\n",
    "\n",
    "$H_0:$ The normality assumption is met.\n",
    "\n",
    "$H_1:$ The normality assumption is not met."
   ]
  },
  {
   "cell_type": "code",
   "execution_count": 14,
   "metadata": {},
   "outputs": [
    {
     "data": {
      "image/png": "[encoded data removed]",
      "text/plain": [
       "<Figure size 1300x400 with 3 Axes>"
      ]
     },
     "metadata": {},
     "output_type": "display_data"
    },
    {
     "name": "stdout",
     "output_type": "stream",
     "text": [
      "Shapiro-Wilk Test (Normality check):\n",
      "Promotion 1 p-value: 0.0002\n",
      "Promotion 2 p-value: 0.0\n",
      "Promotion 3 p-value: 0.0001\n"
     ]
    }
   ],
   "source": [
    "fig, (ax1, ax2, ax3) = plt.subplots(1, 3, figsize=(13, 4))\n",
    "qqplot(df_agg.loc[df_agg[\"Promotion\"] == 1, \"SalesInThousands\"], line=\"s\", ax=ax1)\n",
    "qqplot(df_agg.loc[df_agg[\"Promotion\"] == 2, \"SalesInThousands\"], line=\"s\", ax=ax2)\n",
    "qqplot(df_agg.loc[df_agg[\"Promotion\"] == 3, \"SalesInThousands\"], line=\"s\", ax=ax3)\n",
    "\n",
    "ax1.set_title(\"Promotion 1\")\n",
    "ax2.set_title(\"Promotion 2\")\n",
    "ax3.set_title(\"Promotion 3\")\n",
    "fig.suptitle(\"Total Sales\", size=14)\n",
    "plt.show()\n",
    "\n",
    "print(\"Shapiro-Wilk Test (Normality check):\")\n",
    "for i in range(3):\n",
    "    pvalue = stats.shapiro(\n",
    "        df_agg.loc[df_agg[\"Promotion\"] == i + 1, \"SalesInThousands\"]\n",
    "    )[1].round(4)\n",
    "    print(\"Promotion\", i + 1, \"p-value:\", pvalue)"
   ]
  },
  {
   "cell_type": "markdown",
   "metadata": {},
   "source": [
    "Shapiro-Wilk test's p-value is < 0.05 and hypothesis that **Sales are Normally distributed** is rejected. "
   ]
  },
  {
   "cell_type": "markdown",
   "metadata": {},
   "source": [
    "#### Homogeneity of Variances"
   ]
  },
  {
   "cell_type": "markdown",
   "metadata": {},
   "source": [
    "Levene's Test will be used to check Homogeneity of Variances.\n",
    "\n",
    "$H_0:$ The variance homogeneity is met.\n",
    "\n",
    "$H_1:$ The variance homogeneity is not met."
   ]
  },
  {
   "cell_type": "code",
   "execution_count": 15,
   "metadata": {},
   "outputs": [
    {
     "name": "stdout",
     "output_type": "stream",
     "text": [
      "Test Stat = 0.4681608444016787 p-value = 0.6272\n"
     ]
    }
   ],
   "source": [
    "test_stat, pvalue = stats.levene(\n",
    "    df_agg.loc[df_agg[\"Promotion\"] == 1, \"SalesInThousands\"],\n",
    "    df_agg.loc[df_agg[\"Promotion\"] == 2, \"SalesInThousands\"],\n",
    "    df_agg.loc[df_agg[\"Promotion\"] == 3, \"SalesInThousands\"],\n",
    ")\n",
    "\n",
    "print(\"Test Stat =\", test_stat, \"p-value =\", pvalue.round(4))"
   ]
  },
  {
   "cell_type": "markdown",
   "metadata": {},
   "source": [
    "Levene's test's p-value is > 0.05 and hypothesis that **Variance homogenity is met** is failed to be rejected. "
   ]
  },
  {
   "cell_type": "markdown",
   "metadata": {},
   "source": [
    "### 3.4. Hypothesis testing"
   ]
  },
  {
   "cell_type": "markdown",
   "metadata": {},
   "source": [
    "- Independence - met\n",
    "- Normality - not met\n",
    "- Homogeneity of Variances - met"
   ]
  },
  {
   "cell_type": "markdown",
   "metadata": {},
   "source": [
    "#### Kruskal-Wallis Test"
   ]
  },
  {
   "cell_type": "markdown",
   "metadata": {},
   "source": [
    "\n",
    "As Normality assumption is not met, non parametric Kruskal-Wallis test will be performed instead of ANOVA test. \n",
    "\n",
    "The Kruskal-Wallis test is a non-parametric statistical test used to compare three or more independent groups to determine if there are statistically significant differences in their central tendencies (usually **median** values).\n",
    "\n",
    "$H_0:$ 3 groups sales medians are equal.\n",
    "\n",
    "$H_1:$ 3 groups sales medians are not equal."
   ]
  },
  {
   "cell_type": "code",
   "execution_count": 16,
   "metadata": {},
   "outputs": [
    {
     "name": "stdout",
     "output_type": "stream",
     "text": [
      "Kruskal-Wallis test result p-value: 0.0002\n"
     ]
    }
   ],
   "source": [
    "kruskal_result = stats.kruskal(\n",
    "    df_agg.loc[df_agg[\"Promotion\"] == 1, \"SalesInThousands\"],\n",
    "    df_agg.loc[df_agg[\"Promotion\"] == 2, \"SalesInThousands\"],\n",
    "    df_agg.loc[df_agg[\"Promotion\"] == 3, \"SalesInThousands\"],\n",
    ")\n",
    "\n",
    "print(\"Kruskal-Wallis test result p-value:\", kruskal_result.pvalue.round(4))"
   ]
  },
  {
   "cell_type": "markdown",
   "metadata": {},
   "source": [
    "Kruskal-Wallis' test's p-value is < 0.05 and hypothesis that **3 groups sales medians are equal** is rejected. "
   ]
  },
  {
   "cell_type": "markdown",
   "metadata": {},
   "source": [
    "#### Dunn's Test"
   ]
  },
  {
   "cell_type": "markdown",
   "metadata": {},
   "source": [
    "Dunn's test is a non-parametric post hoc test used following the Kruskal-Wallis test to identify which specific groups have significant differences in their median values. While the Kruskal-Wallis test only tells us if there is a significant difference among groups, Dunn's test provides a way to pinpoint where those differences lie, comparing all pairs of groups.\n",
    "\n",
    "$H_0:$ Sales medians ar eaqual.\n",
    "\n",
    "$H_1:$ Sales medians ar not eaqual."
   ]
  },
  {
   "cell_type": "code",
   "execution_count": 17,
   "metadata": {},
   "outputs": [
    {
     "name": "stdout",
     "output_type": "stream",
     "text": [
      "Dunn's test pairwise comparison p-values:\n",
      "           1         2         3\n",
      "1  1.000000  0.000170  0.688422\n",
      "2  0.000170  1.000000  0.011573\n",
      "3  0.688422  0.011573  1.000000\n"
     ]
    }
   ],
   "source": [
    "if kruskal_result.pvalue < 0.05:\n",
    "    dunn_result = sp.posthoc_dunn(\n",
    "        df_agg,\n",
    "        val_col=\"SalesInThousands\",\n",
    "        group_col=\"Promotion\",\n",
    "        p_adjust=\"bonferroni\",\n",
    "        sort=True,\n",
    "    )\n",
    "    print(\"Dunn's test pairwise comparison p-values:\\n\", dunn_result)"
   ]
  },
  {
   "cell_type": "markdown",
   "metadata": {},
   "source": [
    "Dunn's test's p-value is < 0.05 and hypothesis that **Sales medians are equal** is rejected for:\n",
    "- **Promotion 1** and **Promotion 2** pair.\n",
    "- **Promotion 3** and **Promotion 2** pair.\n",
    "\n",
    "Meaning that there is significant difference between **Sales** in these pairs.\n",
    "\n",
    "Dunn's test's p-value is > 0.05 and hypothesis that **Sales medians are equal** is failed to be rejected for:\n",
    "- **Promotion 1** and **Promotion 3**. \n",
    "\n",
    "This means that there is no significant difference between **Sales** in these **Promotions**. "
   ]
  },
  {
   "cell_type": "markdown",
   "metadata": {},
   "source": [
    "#### Confidence Intervals"
   ]
  },
  {
   "cell_type": "markdown",
   "metadata": {},
   "source": [
    "Comparison between **Promotion** groups was done using non-parametric test for medians. There for - estimated treatment effect and confidens intervals has to be calculated for median. As **Sales** in dataset were not distributed Normally, the only way to calculate this is using **Bootstrap** method."
   ]
  },
  {
   "cell_type": "code",
   "execution_count": 18,
   "metadata": {},
   "outputs": [],
   "source": [
    "def hodges_lehmann_ci(group_a, group_b, n_iterations=1000, ci=95):\n",
    "    \"\"\"Calculate Hodges-Lehmann estimator and its confidence interval using bootstrapping.\"\"\"\n",
    "    pairwise_diffs = [a - b for a in group_a for b in group_b]\n",
    "    hl_estimate = np.median(pairwise_diffs)\n",
    "    bootstrapped_diffs = []\n",
    "\n",
    "    for _ in range(n_iterations):\n",
    "        sample_a = resample(group_a)\n",
    "        sample_b = resample(group_b)\n",
    "        sample_diffs = [a - b for a in sample_a for b in sample_b]\n",
    "        bootstrapped_diffs.append(np.median(sample_diffs))\n",
    "\n",
    "    lower = np.percentile(bootstrapped_diffs, (100 - ci) / 2)\n",
    "    upper = np.percentile(bootstrapped_diffs, 100 - (100 - ci) / 2)\n",
    "    return hl_estimate, lower, upper, bootstrapped_diffs\n",
    "\n",
    "\n",
    "hl_1_2, lower_1_2, upper_1_2, dist_1_2 = hodges_lehmann_ci(\n",
    "    df_agg.loc[df_agg[\"Promotion\"] == 1, \"SalesInThousands\"],\n",
    "    df_agg.loc[df_agg[\"Promotion\"] == 2, \"SalesInThousands\"],\n",
    ")\n",
    "hl_1_3, lower_1_3, upper_1_3, dist_1_3 = hodges_lehmann_ci(\n",
    "    df_agg.loc[df_agg[\"Promotion\"] == 1, \"SalesInThousands\"],\n",
    "    df_agg.loc[df_agg[\"Promotion\"] == 3, \"SalesInThousands\"],\n",
    ")\n",
    "hl_2_3, lower_2_3, upper_2_3, dist_2_3 = hodges_lehmann_ci(\n",
    "    df_agg.loc[df_agg[\"Promotion\"] == 2, \"SalesInThousands\"],\n",
    "    df_agg.loc[df_agg[\"Promotion\"] == 3, \"SalesInThousands\"],\n",
    ")"
   ]
  },
  {
   "cell_type": "code",
   "execution_count": 19,
   "metadata": {},
   "outputs": [
    {
     "data": {
      "image/png": "[encoded data removed]",
      "text/plain": [
       "<Figure size 1200x300 with 3 Axes>"
      ]
     },
     "metadata": {},
     "output_type": "display_data"
    },
    {
     "name": "stdout",
     "output_type": "stream",
     "text": [
      "Promotion 1 - Promotion 2 Hodges-Lehmann estimate: 40.06 and 95% CI 23.3748 - 57.07\n",
      "Promotion 1 - Promotion 3 Hodges-Lehmann estimate: 14.31 and 95% CI -6.4025 - 30.091\n",
      "Promotion 2 - Promotion 3 Hodges-Lehmann estimate: -24.56 and 95% CI -46.2075 - -7.9095\n"
     ]
    }
   ],
   "source": [
    "fig, (ax1, ax2, ax3) = plt.subplots(1, 3, figsize=(12, 3))\n",
    "\n",
    "sns.kdeplot(dist_1_2, fill=True, color=\"skyblue\", ax=ax1)\n",
    "ax1.axvline(hl_1_2, color=\"blue\", linestyle=\"--\", label=\"Estimate (1 - 2)\")\n",
    "ax1.axvline(lower_1_2, color=\"blue\", linestyle=\":\", label=\"95% CI\")\n",
    "ax1.axvline(upper_1_2, color=\"blue\", linestyle=\":\")\n",
    "ax1.set_ylim(0, 0.06)\n",
    "ax1.set_xlim(-10, 90)\n",
    "\n",
    "sns.kdeplot(dist_1_3, fill=True, color=\"lightgreen\", ax=ax2)\n",
    "ax2.axvline(hl_1_3, color=\"green\", linestyle=\"--\", label=\"Estimate (1 - 3)\")\n",
    "ax2.axvline(lower_1_3, color=\"green\", linestyle=\":\", label=\"95% CI\")\n",
    "ax2.axvline(upper_1_3, color=\"green\", linestyle=\":\")\n",
    "ax2.set_ylim(0, 0.06)\n",
    "ax2.set_xlim(-40, 60)\n",
    "\n",
    "sns.kdeplot(dist_2_3, fill=True, color=\"salmon\", ax=ax3)\n",
    "ax3.axvline(hl_2_3, color=\"red\", linestyle=\"--\", label=\"Estimate (2 - 3)\")\n",
    "ax3.axvline(lower_2_3, color=\"red\", linestyle=\":\", label=\"95% CI\")\n",
    "ax3.axvline(upper_2_3, color=\"red\", linestyle=\":\")\n",
    "ax3.set_ylim(0, 0.06)\n",
    "ax3.set_xlim(-80, 20)\n",
    "\n",
    "ax2.set_xlabel(\"Difference between Medians\")\n",
    "ax1.set_ylabel(\"Density\")\n",
    "ax2.set_ylabel(\"\")\n",
    "ax3.set_ylabel(\"\")\n",
    "ax1.set_title(\"Promotion 1 & 2\")\n",
    "ax2.set_title(\"Promotion 1 & 3\")\n",
    "ax3.set_title(\"Promotion 2 & 3\")\n",
    "fig.suptitle(\n",
    "    \"Density Plot of Median Differences with 95% Confidence Intervals (Bootstraped data)\",\n",
    "    x=0.5,\n",
    "    y=1.1,\n",
    ")\n",
    "fig.legend(bbox_to_anchor=(0.7, -0.02), ncol=3)\n",
    "plt.show()\n",
    "\n",
    "print(\n",
    "    \"Promotion 1 - Promotion 2 Hodges-Lehmann estimate:\",\n",
    "    hl_1_2.round(4),\n",
    "    \"and 95% CI\",\n",
    "    lower_1_2.round(4),\n",
    "    \"-\",\n",
    "    upper_1_2.round(4),\n",
    ")\n",
    "print(\n",
    "    \"Promotion 1 - Promotion 3 Hodges-Lehmann estimate:\",\n",
    "    hl_1_3.round(4),\n",
    "    \"and 95% CI\",\n",
    "    lower_1_3.round(4),\n",
    "    \"-\",\n",
    "    upper_1_3.round(4),\n",
    ")\n",
    "print(\n",
    "    \"Promotion 2 - Promotion 3 Hodges-Lehmann estimate:\",\n",
    "    hl_2_3.round(4),\n",
    "    \"and 95% CI\",\n",
    "    lower_2_3.round(4),\n",
    "    \"-\",\n",
    "    upper_2_3.round(4),\n",
    ")"
   ]
  },
  {
   "cell_type": "markdown",
   "metadata": {},
   "source": [
    "**Promotion 1** and **Promotion 3** Confidence interval for Median difference esstimate (Treatment effect) has 0 in it, what means that there is no Statistically Significant difference between Median values for **Promotions** 1 and 3. "
   ]
  },
  {
   "cell_type": "markdown",
   "metadata": {},
   "source": [
    "There are quite heavy tails outside 95% CI. Potential reason for that could be:\n",
    "- Bootstrapping relies on repeated random resampling, which can sometimes produce extreme values, especially when the underlying data distribution is skewed or has outliers. These extreme values in bootstrap samples can lead to wider confidence intervals with longer tails in the distribution.\n",
    "- Non-normal distributions (especially with heavy tails or skewness) can lead to bootstrap distributions that reflect this, making confidence intervals wider than if the data were more normally distributed.\n",
    "- Confidence intervals for median differences tend to be wider than for means, especially if the sample sizes are small. \n",
    "- Calculating pairwise differences between all elements in group_a and group_b means that the bootstrap distribution includes every possible combination, not just a single paired difference. This method (Hodges-Lehmann estimator via pairwise differences) often produces a wider confidence interval compared to traditional means.\n",
    "- The number of bootstrap iterations can impact the stability and spread of the confidence intervals. A lower number of iterations may produce more variability, while increasing it usually stabilizes the results. However, if the underlying data is highly variable, even many bootstrap iterations will yield long tails."
   ]
  },
  {
   "cell_type": "markdown",
   "metadata": {},
   "source": [
    "## 4. Summary"
   ]
  },
  {
   "cell_type": "markdown",
   "metadata": {},
   "source": [
    "- **Promotion 2** showed worst results. Both, total sales and average sales were the lowest between 3 groups.\n",
    "- **Promotion 3** had highest **Total** sales. However because of inequality of assigning **LocationID's** to **Promotions** (less **LocationID's** in **Promotion 1** compared to **Promotion 3**) average sales were highest in **Promotion 1**\n",
    "- A/B test results showed significant difference of **Promotion 2** from other groups. It's Median is ~40 lower than **Promotion 1**, and ~ 24 lower than **Promotion3**.\n",
    "- A/B test results showed no statistically significant diffrence between **Promotion 1** and **Promotion 3** groups. Although diffrence of ~14 could be significant for business decisions.\n",
    "\n",
    "Recomendations for decision:\n",
    "- Analyze **Promotions 1** and **Promotion 3** additionaly to see if there is any kind of similarities between **Promotion** themselves what may caused similar results.\n",
    "- Analyze **Promotions 1** and **Promotion 3** from Market size, store location perspective to see if this may have causes similar results, or maybe different markets react better to different promotions.\n",
    "- If there is no possibility for additional analysis - **Promotion 1** can be chosen for marketing strategy as having highest sales."
   ]
  }
 ],
 "metadata": {
  "kernelspec": {
   "display_name": "Python 3",
   "language": "python",
   "name": "python3"
  },
  "language_info": {
   "codemirror_mode": {
    "name": "ipython",
    "version": 3
   },
   "file_extension": ".py",
   "mimetype": "text/x-python",
   "name": "python",
   "nbconvert_exporter": "python",
   "pygments_lexer": "ipython3",
   "version": "3.11.9"
  }
 },
 "nbformat": 4,
 "nbformat_minor": 2
}
